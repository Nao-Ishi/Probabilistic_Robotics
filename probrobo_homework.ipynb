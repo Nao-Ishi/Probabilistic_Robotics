{
 "cells": [
  {
   "cell_type": "markdown",
   "metadata": {},
   "source": [
    "# 確率ロボティクスレポート\n",
    "## 課題\n",
    "適当なタイルワールドを作って、そのなかでのエージェントの動きを強化学習のアルゴリズムを使って生成してください。"
   ]
  },
  {
   "cell_type": "markdown",
   "metadata": {},
   "source": [
    "# エージェントの定義"
   ]
  },
  {
   "cell_type": "code",
   "execution_count": 1,
   "metadata": {},
   "outputs": [],
   "source": [
    "class Agent:\n",
    "    def __init__(self):\n",
    "        self.actions = [\"up\",\"down\",\"left\",\"right\"]\n",
    "        self.pos = (0,0)\n",
    "        \n",
    "agent = Agent()"
   ]
  },
  {
   "cell_type": "markdown",
   "metadata": {},
   "source": [
    "# 環境の定義\n",
    "ペナルティを与えるマス(unk)を追加\n",
    "\n",
    "授業で扱った池が二つある環境"
   ]
  },
  {
   "cell_type": "code",
   "execution_count": 2,
   "metadata": {},
   "outputs": [],
   "source": [
    "size = 16\n",
    "\n",
    "class State:\n",
    "    def __init__(self,actions):\n",
    "        self.Q = {}\n",
    "        for a in actions:\n",
    "            self.Q[a] = 10.0\n",
    "        self.best_action = \"up\"\n",
    "        self.goal = False\n",
    "        \n",
    "    def set_goal(self,actions):\n",
    "        for a in actions:\n",
    "            self.Q[a] =0.0\n",
    "        self.goal = True\n",
    "        \n",
    "    def set_unk(self,actions):\n",
    "        for a in actions:\n",
    "            self.Q[a] += 100000.0\n",
    "        \n",
    "        \n",
    "        \n",
    "states = [[State(agent.actions) for i in range(size)] for j in range(size)]\n",
    "states[14][14].set_goal(agent.actions)\n",
    "\n",
    "\n",
    "for i in range(6):\n",
    "    for j in range(6):\n",
    "        states[i+3][j+6].set_unk(agent.actions)\n",
    "        \n",
    "for i in range(5):\n",
    "    for j in range(5):\n",
    "        states[i+7][j+3].set_unk(agent.actions)\n",
    "\n"
   ]
  },
  {
   "cell_type": "markdown",
   "metadata": {},
   "source": [
    "# 描画"
   ]
  },
  {
   "cell_type": "code",
   "execution_count": 3,
   "metadata": {},
   "outputs": [
    {
     "data": {
      "image/png": "[encoded data removed]",
      "text/plain": [
       "<Figure size 432x288 with 1 Axes>"
      ]
     },
     "metadata": {
      "needs_background": "light"
     },
     "output_type": "display_data"
    }
   ],
   "source": [
    "import matplotlib.pyplot as plt  \n",
    "import matplotlib.patches as patches\n",
    "#import matplotlib.animation as animation\n",
    "\n",
    "\n",
    "def draw(mark_pos):\n",
    "    fig, ax = plt.subplots()\n",
    "    values = [[states[i][j].Q[states[i][j].best_action] for j in range(size)] for i in range(size)]\n",
    "    mp = ax.pcolor(values, cmap=plt.cm.YlOrRd,vmin=0,vmax=30)\n",
    "    ax.set_aspect(1)\n",
    "    ax.set_xticks(range(size), minor=False)\n",
    "    ax.set_yticks(range(size), minor=False)\n",
    "    \n",
    "    for x in range(len(values)):\n",
    "        for y in range(len(values[0])):\n",
    "            s = states[y][x]\n",
    "            plt.text(x+0.5,y+0.5,int(1000*s.Q[s.best_action])/1000,ha = 'center', va = 'center', size=5)\n",
    "            if states[y][x].goal:\n",
    "                plt.text(x+0.75,y+0.75,\"G\",ha = 'center', va = 'center', size=20)\n",
    "                \n",
    "    plt.text(agent.pos[0]+0.5,agent.pos[1]+0.25,\"agent\",ha = 'center', va = 'center', size=20)\n",
    "    \n",
    "    if mark_pos == \"all\":   # 指定した位置にactionの文字列を書くという処理\n",
    "        for x in range(size):\n",
    "            for y in range(size):\n",
    "                if states[y][x].goal: continue\n",
    "                plt.text(x+0.5,y+0.25,states[y][x].best_action,ha = 'center', va = 'center', size=10)\n",
    "    elif mark_pos != None: \n",
    "        s = states[mark_pos[0]][mark_pos[1]]\n",
    "        plt.text(mark_pos[0]+0.5,mark_pos[1]+0.25,s.best_action,ha = 'center', va = 'center', size=10)\n",
    "            \n",
    "    plt.show()\n",
    "    fig.clear()\n",
    "    \n",
    "draw(None)"
   ]
  },
  {
   "cell_type": "markdown",
   "metadata": {},
   "source": [
    "# 状態遷移の実装"
   ]
  },
  {
   "cell_type": "code",
   "execution_count": 4,
   "metadata": {},
   "outputs": [],
   "source": [
    "import random\n",
    "\n",
    "def state_transition(s_pos,a):\n",
    "    ###確率10%で元のまま ###\n",
    "    if random.uniform(0,1) < 0.1:\n",
    "        return s_pos\n",
    "    \n",
    "    x,y = s_pos\n",
    "    if   a == \"up\": x += 1\n",
    "    elif a == \"down\": x -= 1\n",
    "    elif a == \"right\": y += 1\n",
    "    elif a == \"left\": y -= 1\n",
    "        \n",
    "    if x < 0:       x = 0\n",
    "    elif x >= size: x = size-1\n",
    "    if y < 0:       y = 0\n",
    "    elif y >= size: y = size-1\n",
    "        \n",
    "    return (x,y)"
   ]
  },
  {
   "cell_type": "markdown",
   "metadata": {},
   "source": [
    "# 方策(ε-greedy)"
   ]
  },
  {
   "cell_type": "code",
   "execution_count": 5,
   "metadata": {},
   "outputs": [],
   "source": [
    "def e_greedy(s):\n",
    "    if random.uniform(0,1) < 0.1: #10%でランダムに\n",
    "        return random.choice(agent.actions)\n",
    "    else:\n",
    "        best_a = None\n",
    "        best_q = 1000000000\n",
    "        for a in s.Q:\n",
    "            if best_q > s.Q[a]:\n",
    "                best_q = s.Q[a]\n",
    "                best_a = a\n",
    "        s.best_action = best_a\n",
    "        return best_a"
   ]
  },
  {
   "cell_type": "markdown",
   "metadata": {},
   "source": [
    "# ある状態で最大のqを返す関数"
   ]
  },
  {
   "cell_type": "code",
   "execution_count": 6,
   "metadata": {},
   "outputs": [],
   "source": [
    "def max_a(s):\n",
    "    best_a = None\n",
    "    best_q = 1000000000\n",
    "    for a in s.Q:\n",
    "        if best_q > s.Q[a]:\n",
    "            best_q = s.Q[a]\n",
    "            best_a = a\n",
    "    s.best_action = best_a\n",
    "    return best_a"
   ]
  },
  {
   "cell_type": "markdown",
   "metadata": {},
   "source": [
    "# 学習\n",
    "sarsaの学習部分をQ学習用に変更\n",
    "\n",
    "良い感じのところで止めて次に進んでください"
   ]
  },
  {
   "cell_type": "code",
   "execution_count": 73,
   "metadata": {},
   "outputs": [
    {
     "data": {
      "image/png": "[encoded data removed]",
      "text/plain": [
       "<Figure size 432x288 with 1 Axes>"
      ]
     },
     "metadata": {
      "needs_background": "light"
     },
     "output_type": "display_data"
    }
   ],
   "source": [
    "alpha = 0.2\n",
    "gamma = 1.0\n",
    "\n",
    "def sarsa(s_pos,a):\n",
    "    s = states[s_pos[0]][s_pos[1]]\n",
    "    s_next_pos = state_transition(s_pos,a)\n",
    "    s_next = states[s_next_pos[0]][s_next_pos[1]]\n",
    "    a_next = max_a(s_next)#次の状態で一番良いaで学習\n",
    "    #a_next = e_greedy(s_next)#次の状態で選んだaで学習\n",
    "    \n",
    "    \n",
    "    q = (1.0-alpha)*s.Q[a] + alpha * (1.0 + gamma * s_next.Q[a_next])\n",
    "    #print(\"s:\" + str(s_pos)+ \"　a:\" + a + \" s':\" + str(s_next_pos) + \" a':\" + a_next)\n",
    "    #print(\"----\")\n",
    "    return s_next_pos, a_next, q\n",
    "\n",
    "def one_trial():\n",
    "    agent.pos = (random.randrange(size),random.randrange(size))\n",
    "    a = e_greedy(states[agent.pos[0]][agent.pos[1]])\n",
    "    if states[agent.pos[0]][agent.pos[1]].goal:\n",
    "        return\n",
    "          \n",
    "    while True:\n",
    "        #draw(None)\n",
    "        s_next, a_next, q = sarsa(agent.pos,a)\n",
    "        states[agent.pos[0]][agent.pos[1]].Q[a] = q\n",
    "        agent.pos = s_next\n",
    "        a = a_next\n",
    "        if states[agent.pos[0]][agent.pos[1]].goal:\n",
    "            break\n",
    "            \n",
    "            \n",
    "for i in range(1000):\n",
    "    one_trial()\n",
    "draw(None)\n",
    "\n",
    "#plt.show()"
   ]
  },
  {
   "cell_type": "markdown",
   "metadata": {},
   "source": [
    "# ロボットの移動軌跡の描画"
   ]
  },
  {
   "cell_type": "code",
   "execution_count": 74,
   "metadata": {},
   "outputs": [
    {
     "name": "stdout",
     "output_type": "stream",
     "text": [
      "(4, 5) down\n",
      "(3, 5) down\n",
      "(2, 5) right\n",
      "(2, 6) right\n",
      "(2, 7) right\n",
      "(2, 8) right\n",
      "(2, 9) right\n",
      "(2, 9) right\n",
      "(2, 10) right\n",
      "(2, 11) right\n",
      "(2, 12) up\n",
      "(2, 12) up\n",
      "(2, 12) up\n",
      "(3, 12) up\n",
      "(4, 12) right\n",
      "(4, 13) up\n",
      "(5, 13) right\n",
      "(5, 14) up\n",
      "(6, 14) up\n",
      "(7, 14) up\n",
      "(8, 14) up\n",
      "(8, 14) up\n",
      "(9, 14) up\n",
      "(10, 14) up\n",
      "(11, 14) up\n",
      "(11, 14) up\n",
      "(11, 14) up\n",
      "(12, 14) up\n",
      "(13, 14) up\n",
      "(14, 14) up\n"
     ]
    },
    {
     "data": {
      "image/png": "[encoded data removed]",
      "text/plain": [
       "<Figure size 432x288 with 1 Axes>"
      ]
     },
     "metadata": {
      "needs_background": "light"
     },
     "output_type": "display_data"
    }
   ],
   "source": [
    "def demo_play():\n",
    "    agent.pos = (random.randrange(size),random.randrange(size))\n",
    "    a = states[agent.pos[1]][agent.pos[0]].best_action\n",
    "    #描画系\n",
    "    demo = plt.subplot()\n",
    "    demo.set_xlim([0,16])\n",
    "    demo.set_ylim([0,16])\n",
    "    r = patches.Rectangle(xy=(3, 7), width=5, height=5, color=(0,0,1,0.2))\n",
    "    demo.add_patch(r)\n",
    "    r = patches.Rectangle(xy=(6, 3), width=6, height=6, color=(0,0,1,0.2))\n",
    "    demo.add_patch(r)\n",
    "    #demo.plot(agent.pos[0],agent.pos[1],marker='.')\n",
    "    demo.set_aspect('equal')\n",
    "    \n",
    "    if states[agent.pos[0]][agent.pos[1]].goal:\n",
    "        return\n",
    "          \n",
    "    for i in range(100):\n",
    "        #draw(None)\n",
    "        #s_next, a_next, q = sarsa(agent.pos,a)\n",
    "        #states[agent.pos[0]][agent.pos[1]].Q[a] = q\n",
    "        s_next = state_transition(agent.pos,a)\n",
    "        demo.plot([agent.pos[0],s_next[0]],[s_next[1],agent.pos[1]],color=\"red\")\n",
    "        agent.pos = s_next\n",
    "        \n",
    "        #a = states[agent.pos[1]][agent.pos[0]].best_action\n",
    "        a = max_a(states[agent.pos[0]][agent.pos[1]])\n",
    "        print(agent.pos,a)\n",
    "        #a = a_next\n",
    "        if states[agent.pos[0]][agent.pos[1]].goal:\n",
    "            break\n",
    "            \n",
    "demo_play()\n"
   ]
  },
  {
   "cell_type": "code",
   "execution_count": null,
   "metadata": {},
   "outputs": [],
   "source": []
  }
 ],
 "metadata": {
  "kernelspec": {
   "display_name": "Python 3",
   "language": "python",
   "name": "python3"
  },
  "language_info": {
   "codemirror_mode": {
    "name": "ipython",
    "version": 3
   },
   "file_extension": ".py",
   "mimetype": "text/x-python",
   "name": "python",
   "nbconvert_exporter": "python",
   "pygments_lexer": "ipython3",
   "version": "3.8.1"
  }
 },
 "nbformat": 4,
 "nbformat_minor": 4
}
